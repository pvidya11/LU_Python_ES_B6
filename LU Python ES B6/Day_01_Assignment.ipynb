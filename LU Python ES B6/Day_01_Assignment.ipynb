{
 "cells": [
  {
   "cell_type": "markdown",
   "metadata": {},
   "source": [
    "## Question 1) what is python? what are ways to install python in your pc?"
   ]
  },
  {
   "cell_type": "markdown",
   "metadata": {},
   "source": [
    "###### python:-\n",
    "    python is high level programming language, interpreter, object oriented, functional, modular and scripting lnguage.\n",
    "    it is developed by Gauido Van Rossum in 1991.\n",
    "\n",
    "###### option 1(Python):-\n",
    "\n",
    "    steps to install python:-\n",
    "        1) Download python installer from the Python Software Foundation website at \"python.org\" as per available OS.\n",
    "        2) For Windows OS: \n",
    "            a) click on Windows OS then click on python version then like \"python-3.8.5.exe\" file starts to download\n",
    "            b) Double click the downloaded (python-3.8.5.exe) file and follow the instructions on the screen. \n",
    "            c) choose default setting by clicking \"install now\" or select \"customize installation\" to customize setting.\n",
    "            d) When finished installation, we see message \"setup was successful\" then click on close button.\n",
    "            e) Type \"python-3.8.5\" in search window & click on \"python-3.8.5\" app then new python shell will be open for use.\n",
    "           \n",
    "###### Option 2 (Anaconda):-\n",
    "\n",
    "        Anaconda is a free distribution of Python provided by Continuum Analytics. It includes a lot of the most popular data science packages installed as well, ready for use. when we download and install Anaconda, we can able to use jupyter notebook, IPython shell, Spyder IDE for python and many more interactive development environment for doing data science with Python.\n",
    "    \n",
    "    Steps to install Anaconda:-    \n",
    "        1) To download Anaconda (includes Python): Go to https://www.continuum.io/downloads\n",
    "        2) Click the green 64-bit Installer button, A file with the extension .exe should begin to download.\n",
    "        3) Double click the .exe file and follow the instructions on the screen.\n",
    "        4) When finished installation, a new terminal window will open.\n",
    "        5) we can start coding in terminal. For example, try basic print(“Hello world!”).\n"
   ]
  },
  {
   "cell_type": "code",
   "execution_count": null,
   "metadata": {},
   "outputs": [],
   "source": []
  }
 ],
 "metadata": {
  "kernelspec": {
   "display_name": "Python 3",
   "language": "python",
   "name": "python3"
  },
  "language_info": {
   "codemirror_mode": {
    "name": "ipython",
    "version": 3
   },
   "file_extension": ".py",
   "mimetype": "text/x-python",
   "name": "python",
   "nbconvert_exporter": "python",
   "pygments_lexer": "ipython3",
   "version": "3.7.0"
  }
 },
 "nbformat": 4,
 "nbformat_minor": 2
}
