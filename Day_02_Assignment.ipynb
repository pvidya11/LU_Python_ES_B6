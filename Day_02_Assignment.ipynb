{
 "cells": [
  {
   "cell_type": "markdown",
   "metadata": {},
   "source": [
    "### Agenda:-\n",
    "    1) Basic python syntax\n",
    "    2) Python Variables and Assignment Statement\n",
    "    3) Python Operators"
   ]
  },
  {
   "cell_type": "markdown",
   "metadata": {},
   "source": [
    "### 1) Basic python syntax:-"
   ]
  },
  {
   "cell_type": "markdown",
   "metadata": {},
   "source": [
    "    1) Back slash(\\):- continuous sign.it is used in reoresnting certain whitespace"
   ]
  },
  {
   "cell_type": "markdown",
   "metadata": {},
   "source": [
    "    2) Escape sequence in string:- sequence of character a backslash known as escape sequence in string.\n",
    "              \\ :- escape backslash.\n",
    "              \\\\ :- double backslash.\n",
    "              \\n :- new line escape sequenc.\n",
    "              \\t :- tab escape sequence.              "
   ]
  },
  {
   "cell_type": "code",
   "execution_count": 1,
   "metadata": {},
   "outputs": [
    {
     "name": "stdout",
     "output_type": "stream",
     "text": [
      "python's world\n"
     ]
    }
   ],
   "source": [
    "print('python\\'s world')"
   ]
  },
  {
   "cell_type": "code",
   "execution_count": 2,
   "metadata": {},
   "outputs": [
    {
     "name": "stdout",
     "output_type": "stream",
     "text": [
      "python\n",
      "world\n"
     ]
    }
   ],
   "source": [
    "print(\"python\\nworld\")"
   ]
  },
  {
   "cell_type": "code",
   "execution_count": 3,
   "metadata": {},
   "outputs": [
    {
     "name": "stdout",
     "output_type": "stream",
     "text": [
      "python\n",
      "world\n"
     ]
    }
   ],
   "source": [
    "print(\"python\\nworld\")"
   ]
  },
  {
   "cell_type": "code",
   "execution_count": 4,
   "metadata": {},
   "outputs": [
    {
     "name": "stdout",
     "output_type": "stream",
     "text": [
      "python\tworld\n"
     ]
    }
   ],
   "source": [
    "print(\"python\\tworld\")"
   ]
  },
  {
   "cell_type": "markdown",
   "metadata": {},
   "source": [
    "    3)triple quote:- to print a multi-line string in python.\n",
    "            '''...''' or \"\"\"...\"\"\"\n",
    "     "
   ]
  },
  {
   "cell_type": "markdown",
   "metadata": {},
   "source": [
    "    three format:- \n",
    "        a) docstring\n",
    "        b) text art\n",
    "        c) sql queries"
   ]
  },
  {
   "cell_type": "code",
   "execution_count": 5,
   "metadata": {},
   "outputs": [
    {
     "data": {
      "text/plain": [
       "'This is letsupgrade learning'"
      ]
     },
     "execution_count": 5,
     "metadata": {},
     "output_type": "execute_result"
    }
   ],
   "source": [
    "\"\"\"This is letsupgrade learning\"\"\""
   ]
  },
  {
   "cell_type": "code",
   "execution_count": 6,
   "metadata": {},
   "outputs": [
    {
     "data": {
      "text/plain": [
       "'select * from collges'"
      ]
     },
     "execution_count": 6,
     "metadata": {},
     "output_type": "execute_result"
    }
   ],
   "source": [
    "\"\"\"select * from collges\"\"\""
   ]
  },
  {
   "cell_type": "markdown",
   "metadata": {},
   "source": [
    "    4) string inside the code:-\n",
    "        string can be created by enclosing characters inside the single and double quotes.\n",
    "        "
   ]
  },
  {
   "cell_type": "code",
   "execution_count": 7,
   "metadata": {},
   "outputs": [
    {
     "name": "stdout",
     "output_type": "stream",
     "text": [
      "python world\n"
     ]
    }
   ],
   "source": [
    "print('python world')     # single quote"
   ]
  },
  {
   "cell_type": "code",
   "execution_count": 8,
   "metadata": {},
   "outputs": [
    {
     "name": "stdout",
     "output_type": "stream",
     "text": [
      "python world\n"
     ]
    }
   ],
   "source": [
    "print(\"python world\")  # double quote"
   ]
  },
  {
   "cell_type": "markdown",
   "metadata": {},
   "source": [
    "    5) Formatted output:- \n",
    "        input:\n",
    "            '{} {}'.format('one', 'two')\n",
    "        Output:\n",
    "            one two\n",
    "        input:\n",
    "            '{} {}'.format(1, 2)\n",
    "        Output:\n",
    "            1 2\n",
    "        input\n",
    "            '{1} {0}'.format('one', 'two')\n",
    "        Output:\n",
    "            two one"
   ]
  },
  {
   "cell_type": "code",
   "execution_count": 10,
   "metadata": {},
   "outputs": [
    {
     "name": "stdout",
     "output_type": "stream",
     "text": [
      "The name of person is sweety marks is 99 and age is 25 .\n"
     ]
    }
   ],
   "source": [
    "name=\"sweety\"\n",
    "marks=\"99\"\n",
    "age=25\n",
    "print(\"The name of person is\",name,\"marks is\",marks,\"and age is\",age,\".\")"
   ]
  },
  {
   "cell_type": "code",
   "execution_count": 13,
   "metadata": {},
   "outputs": [
    {
     "name": "stdout",
     "output_type": "stream",
     "text": [
      "x=10 and y=2 so substraction of 10 and 2 is 8.\n"
     ]
    }
   ],
   "source": [
    "x=10\n",
    "y=2\n",
    "print(\"x={0} and y={1} so substraction of {0} and {1} is {2}.\".format(x,y,x-y))"
   ]
  },
  {
   "cell_type": "code",
   "execution_count": 20,
   "metadata": {},
   "outputs": [
    {
     "name": "stdout",
     "output_type": "stream",
     "text": [
      "x=10 and y=12 so floor Divsion of 10 by 12 is 0.\n"
     ]
    }
   ],
   "source": [
    "x=10\n",
    "y=12\n",
    "print(\"x={0} and y={1} so floor Divsion of {0} by {1} is {2}.\".format(x,y,x//y))"
   ]
  },
  {
   "cell_type": "code",
   "execution_count": 21,
   "metadata": {},
   "outputs": [
    {
     "name": "stdout",
     "output_type": "stream",
     "text": [
      "x=10 and y=12 so Division of 10 by 12 is 0.8333333333333334.\n"
     ]
    }
   ],
   "source": [
    "x=10\n",
    "y=12\n",
    "print(\"x={} and y={} so Division of {} by {} is {}.\".format(x,y,x,y,x/y))"
   ]
  },
  {
   "cell_type": "code",
   "execution_count": 22,
   "metadata": {},
   "outputs": [
    {
     "name": "stdout",
     "output_type": "stream",
     "text": [
      "Multipication of 10 and 12 is 120.\n"
     ]
    }
   ],
   "source": [
    "x=10\n",
    "y=12\n",
    "print(\"Multipication of \" + str(x) + \" and \" + str(y) +\" is \"+ str(x*y)+\".\")"
   ]
  },
  {
   "cell_type": "markdown",
   "metadata": {},
   "source": [
    "## 2) Python Variables and Assignment statements:-"
   ]
  },
  {
   "cell_type": "markdown",
   "metadata": {},
   "source": [
    "###### Python Variables:- \n",
    "        Vriables mean linking of the data to the name. OR\n",
    "        A Python variable is a reserved memory location to store value.\n",
    "        A variable is created the moment you first assign a value to it.\n",
    "         A variable can have a short name (like x and y) or a more descriptive name (age, carname, total_volume)."
   ]
  },
  {
   "cell_type": "code",
   "execution_count": 23,
   "metadata": {},
   "outputs": [
    {
     "name": "stdout",
     "output_type": "stream",
     "text": [
      "5\n",
      "John\n"
     ]
    }
   ],
   "source": [
    "x = 5\n",
    "y = \"John\"\n",
    "print(x)\n",
    "print(y)"
   ]
  },
  {
   "cell_type": "code",
   "execution_count": 24,
   "metadata": {},
   "outputs": [
    {
     "name": "stdout",
     "output_type": "stream",
     "text": [
      "John\n"
     ]
    }
   ],
   "source": [
    "x = 5\n",
    "x = \"John\"\n",
    "print(x)"
   ]
  },
  {
   "cell_type": "markdown",
   "metadata": {},
   "source": [
    "###### Rules for Variable:- \n",
    "        A variable name must start with a letter or the underscore character(_)\n",
    "        A variable name cannot start with a number.\n",
    "        A variable name can only contain alpha-numeric characters and underscores (A-z, 0-9, and _ ).\n",
    "        Variable names are case-sensitive (age, Age and AGE are three different variables)"
   ]
  },
  {
   "cell_type": "code",
   "execution_count": 25,
   "metadata": {},
   "outputs": [
    {
     "name": "stdout",
     "output_type": "stream",
     "text": [
      "10\n"
     ]
    }
   ],
   "source": [
    "# A variable name must start with a letter or the underscore character(_).\n",
    "x=10\n",
    "print(x)"
   ]
  },
  {
   "cell_type": "code",
   "execution_count": 26,
   "metadata": {},
   "outputs": [
    {
     "ename": "SyntaxError",
     "evalue": "invalid syntax (<ipython-input-26-66f7f447addb>, line 2)",
     "output_type": "error",
     "traceback": [
      "\u001b[1;36m  File \u001b[1;32m\"<ipython-input-26-66f7f447addb>\"\u001b[1;36m, line \u001b[1;32m2\u001b[0m\n\u001b[1;33m    12x=100\u001b[0m\n\u001b[1;37m      ^\u001b[0m\n\u001b[1;31mSyntaxError\u001b[0m\u001b[1;31m:\u001b[0m invalid syntax\n"
     ]
    }
   ],
   "source": [
    "# A variable name cannot start with a number.\n",
    "12x=100\n",
    "print(12x)"
   ]
  },
  {
   "cell_type": "code",
   "execution_count": 27,
   "metadata": {},
   "outputs": [
    {
     "name": "stdout",
     "output_type": "stream",
     "text": [
      "12\n",
      "23\n",
      "0\n",
      "letsupgrade\n"
     ]
    }
   ],
   "source": [
    "# A variable name can only contain alpha-numeric characters and underscores (A-z, 0-9, and _ ).\n",
    "A=12\n",
    "a=23\n",
    "_112=0\n",
    "x_p1=\"letsupgrade\"\n",
    "print(A)\n",
    "print(a)\n",
    "print(_112)\n",
    "print(x_p1)"
   ]
  },
  {
   "cell_type": "code",
   "execution_count": 28,
   "metadata": {},
   "outputs": [
    {
     "name": "stdout",
     "output_type": "stream",
     "text": [
      "letsupgrade\n",
      "john\n",
      "kirti\n"
     ]
    }
   ],
   "source": [
    "#Variable names are case-sensitive (age, Age and AGE are three different variables).\n",
    "name=\"letsupgrade\"\n",
    "NAME=\"john\"\n",
    "Name=\"kirti\"\n",
    "print(name)\n",
    "print(NAME)\n",
    "print(Name)"
   ]
  },
  {
   "cell_type": "markdown",
   "metadata": {},
   "source": [
    "##### Python Assignment statements:-\n",
    "        "
   ]
  },
  {
   "cell_type": "markdown",
   "metadata": {},
   "source": [
    "###### Assignment Statements in Python\n",
    "    Assignment statements to assign objects to names. \n",
    "    The target of an assignment statement is written on the left side of the equal sign (=). and the object on the right.\n",
    "\n",
    "###### There are some important properties of assignment in Python :-\n",
    "\n",
    "    Assignment creates object references instead of copying the objects.\n",
    "    Python creates a variable name the first time when they are assigned a value.\n",
    "    Names must be assigned before being referenced.\n",
    "    There are some operations that perform assignments implicitly."
   ]
  },
  {
   "cell_type": "markdown",
   "metadata": {},
   "source": [
    "###### Assignment statement forms :-\n",
    "\n",
    "        1. Basic form:\n",
    "            This form is the most common form."
   ]
  },
  {
   "cell_type": "code",
   "execution_count": 29,
   "metadata": {},
   "outputs": [
    {
     "name": "stdout",
     "output_type": "stream",
     "text": [
      "pooja\n"
     ]
    }
   ],
   "source": [
    "name=\"pooja\"\n",
    "print(name)"
   ]
  },
  {
   "cell_type": "markdown",
   "metadata": {},
   "source": [
    "      2. Tuple assignment:\n",
    "          # equivalent to: (x, y) = (50, 100) "
   ]
  },
  {
   "cell_type": "code",
   "execution_count": 30,
   "metadata": {},
   "outputs": [
    {
     "name": "stdout",
     "output_type": "stream",
     "text": [
      "x =  50\n",
      "y =  100\n"
     ]
    }
   ],
   "source": [
    "x, y = 50, 100  \n",
    "  \n",
    "print('x = ', x) \n",
    "print('y = ', y) "
   ]
  },
  {
   "cell_type": "markdown",
   "metadata": {},
   "source": [
    "    2. List assignment:\n",
    "        List assignment is same as the tuple assignment. only different is list is in square bracket[].\n",
    "        # equivalent to: [x,y] = [2, 4]"
   ]
  },
  {
   "cell_type": "code",
   "execution_count": 31,
   "metadata": {},
   "outputs": [
    {
     "name": "stdout",
     "output_type": "stream",
     "text": [
      "x =  2\n",
      "y =  4\n"
     ]
    }
   ],
   "source": [
    "[x, y] = [2, 4] \n",
    "  \n",
    "print('x = ', x) \n",
    "print('y = ', y) "
   ]
  },
  {
   "cell_type": "markdown",
   "metadata": {},
   "source": [
    "    4. Sequence assignment:"
   ]
  },
  {
   "cell_type": "code",
   "execution_count": 32,
   "metadata": {},
   "outputs": [
    {
     "name": "stdout",
     "output_type": "stream",
     "text": [
      "a =  H\n",
      "b =  E\n",
      "c =  Y\n"
     ]
    }
   ],
   "source": [
    "a, b, c = 'HEY'\n",
    "  \n",
    "print('a = ', a) \n",
    "print('b = ', b) \n",
    "print('c = ', c) "
   ]
  },
  {
   "cell_type": "markdown",
   "metadata": {},
   "source": [
    "    5. Extended Sequence unpacking:\n",
    "        It allows us to be more flexible in how we select portions of a sequence to assign.\n",
    "\n",
    "       Here, p is matched with the first character in the string on the right and q with the rest. The starred name (*q) is                  assigned a list, which collects all items in the sequence not assigned to other names."
   ]
  },
  {
   "cell_type": "code",
   "execution_count": 33,
   "metadata": {},
   "outputs": [
    {
     "name": "stdout",
     "output_type": "stream",
     "text": [
      "p =  H\n",
      "q =  ['e', 'l', 'l', 'o']\n"
     ]
    }
   ],
   "source": [
    "p, *q = 'Hello'            # p is match with first character in str. *q is assigned a list.\n",
    "  \n",
    "print('p = ', p) \n",
    "print('q = ', q) "
   ]
  },
  {
   "cell_type": "code",
   "execution_count": 34,
   "metadata": {},
   "outputs": [
    {
     "name": "stdout",
     "output_type": "stream",
     "text": [
      "p =  Hello\n",
      "q =  ['world']\n"
     ]
    }
   ],
   "source": [
    "p, *q = 'Hello',\"world\"\n",
    "  \n",
    "print('p = ', p) \n",
    "print('q = ', q)"
   ]
  },
  {
   "cell_type": "markdown",
   "metadata": {},
   "source": [
    "    6. Multiple- target assignment:\n",
    "        Python assigns a reference to the same object (the object which is rightmost) to all the target on the left.\n"
   ]
  },
  {
   "cell_type": "code",
   "execution_count": 35,
   "metadata": {},
   "outputs": [
    {
     "name": "stdout",
     "output_type": "stream",
     "text": [
      "75 75\n"
     ]
    }
   ],
   "source": [
    "x = y = 75\n",
    "print(x, y) "
   ]
  },
  {
   "cell_type": "markdown",
   "metadata": {},
   "source": [
    "    7. Augmented assignment :\n",
    "        The augmented assignment is a shorthand assignment that combines an expression and an assignment."
   ]
  },
  {
   "cell_type": "code",
   "execution_count": 36,
   "metadata": {},
   "outputs": [
    {
     "name": "stdout",
     "output_type": "stream",
     "text": [
      "3\n"
     ]
    }
   ],
   "source": [
    "x = 2\n",
    "# equivalent to: x = x + 1 \n",
    "x += 1    \n",
    "print(x)"
   ]
  },
  {
   "cell_type": "markdown",
   "metadata": {},
   "source": [
    "    There are several other augmented assignment forms:\n",
    "        -=, **=, &=, etc."
   ]
  },
  {
   "cell_type": "markdown",
   "metadata": {},
   "source": [
    "## Python Operators."
   ]
  },
  {
   "cell_type": "markdown",
   "metadata": {},
   "source": [
    "    1) Arithmetic operators\n",
    "    2) Assignment operators\n",
    "    3) Comparison operators\n",
    "    4) Logical operators\n",
    "    5) Identity operators\n",
    "    6) Membership operators\n",
    "    7) Bitwise operators"
   ]
  },
  {
   "cell_type": "markdown",
   "metadata": {},
   "source": [
    "    1) Arithmetic operators\n",
    "        Aritmetic operators used with numeric values to perform common mathematical operations:\n",
    "        ( +, -, *, /, %, //, **)"
   ]
  },
  {
   "cell_type": "code",
   "execution_count": 37,
   "metadata": {},
   "outputs": [
    {
     "name": "stdout",
     "output_type": "stream",
     "text": [
      "Addition of 11 and 5 is 16 .\n",
      "x=11 and y=5 so substraction of 11 and 5 is 6.\n",
      "Multipication of 11 and 5 is 55.\n",
      "x=11 and y=5 so Division of 11 by 5 is 2.2.\n",
      "Remainder of 11 and 5 is 1 .\n",
      "x=11 and y=5 so floor Divsion of 11 by 5 is 2.\n",
      "5 power of 11 is 161051\n"
     ]
    }
   ],
   "source": [
    "x=11\n",
    "y=5\n",
    "print(\"Addition of\",x ,\"and\",y,\"is\",x+y,\".\")\n",
    "print(\"x={0} and y={1} so substraction of {0} and {1} is {2}.\".format(x,y,x-y))\n",
    "print(\"Multipication of \" + str(x) + \" and \" + str(y) +\" is \"+ str(x*y)+\".\")\n",
    "print(\"x={} and y={} so Division of {} by {} is {}.\".format(x,y,x,y,x/y))\n",
    "print(\"Remainder of\", x, \"and\",y,\"is\",x%y,\".\")\n",
    "print(\"x={0} and y={1} so floor Divsion of {0} by {1} is {2}.\".format(x,y,x//y))\n",
    "print(y,\"power of\",x,\"is\",x**y)"
   ]
  },
  {
   "cell_type": "markdown",
   "metadata": {},
   "source": [
    "    2) Assignment operators:\n",
    "       Assignment operators is used to assign values to variables:\n",
    "           (=, +=, -=, *=, /=, %=, //=, **=, ^=, &=, |=, >>=, <<= )."
   ]
  },
  {
   "cell_type": "code",
   "execution_count": 38,
   "metadata": {},
   "outputs": [
    {
     "name": "stdout",
     "output_type": "stream",
     "text": [
      "5\n"
     ]
    }
   ],
   "source": [
    "x=5\n",
    "print(x)"
   ]
  },
  {
   "cell_type": "code",
   "execution_count": 39,
   "metadata": {},
   "outputs": [
    {
     "name": "stdout",
     "output_type": "stream",
     "text": [
      "15\n"
     ]
    }
   ],
   "source": [
    "x+=10\n",
    "print(x)"
   ]
  },
  {
   "cell_type": "code",
   "execution_count": 40,
   "metadata": {},
   "outputs": [
    {
     "name": "stdout",
     "output_type": "stream",
     "text": [
      "13\n"
     ]
    }
   ],
   "source": [
    "x-=2\n",
    "print(x)"
   ]
  },
  {
   "cell_type": "code",
   "execution_count": 41,
   "metadata": {},
   "outputs": [
    {
     "name": "stdout",
     "output_type": "stream",
     "text": [
      "26\n"
     ]
    }
   ],
   "source": [
    "x*=2\n",
    "print(x)"
   ]
  },
  {
   "cell_type": "code",
   "execution_count": 42,
   "metadata": {},
   "outputs": [
    {
     "name": "stdout",
     "output_type": "stream",
     "text": [
      "2.6\n"
     ]
    }
   ],
   "source": [
    "x/=10\n",
    "print(x)"
   ]
  },
  {
   "cell_type": "code",
   "execution_count": 43,
   "metadata": {},
   "outputs": [
    {
     "name": "stdout",
     "output_type": "stream",
     "text": [
      "2.6\n"
     ]
    }
   ],
   "source": [
    "x%=5\n",
    "print(x)"
   ]
  },
  {
   "cell_type": "markdown",
   "metadata": {},
   "source": [
    "       3) python comparision Assignment:-\n",
    "             comparision operators used to compare two values.\n",
    "             (==, !=, >, <, >=, <= )."
   ]
  },
  {
   "cell_type": "code",
   "execution_count": 44,
   "metadata": {},
   "outputs": [
    {
     "name": "stdout",
     "output_type": "stream",
     "text": [
      "False\n",
      "True\n",
      "True\n",
      "False\n",
      "True\n",
      "False\n"
     ]
    }
   ],
   "source": [
    "x=20\n",
    "y=16\n",
    "print(x==y)\n",
    "print(x!=y)\n",
    "print(x>y)\n",
    "print(x<y)\n",
    "print(x>=y)\n",
    "print(x<=y)"
   ]
  },
  {
   "cell_type": "markdown",
   "metadata": {},
   "source": [
    "       4) Python Logical Operators\n",
    "                Logical operators are used to combine conditional statements:\n",
    "                    ( and, or, not)"
   ]
  },
  {
   "cell_type": "code",
   "execution_count": 45,
   "metadata": {},
   "outputs": [
    {
     "name": "stdout",
     "output_type": "stream",
     "text": [
      "30\n",
      "10\n",
      "False\n"
     ]
    }
   ],
   "source": [
    "x=10\n",
    "y=30\n",
    "print(x and y)\n",
    "print(x or y)\n",
    "print(not x)"
   ]
  },
  {
   "cell_type": "markdown",
   "metadata": {},
   "source": [
    "    5) Python Identity Operators\n",
    "        Identity operators are used to compare the objects, not if they are equal, but if they are actually the same object,             with the same memory location:\n",
    "            ( is, is not )"
   ]
  },
  {
   "cell_type": "code",
   "execution_count": 46,
   "metadata": {},
   "outputs": [
    {
     "name": "stdout",
     "output_type": "stream",
     "text": [
      "False\n",
      "True\n"
     ]
    }
   ],
   "source": [
    "x=10\n",
    "y=5\n",
    "print(x is y)\n",
    "print(x is not y)"
   ]
  },
  {
   "cell_type": "markdown",
   "metadata": {},
   "source": [
    "    6) Python Membership Operators\n",
    "        Membership operators are used to test if a sequence is presented in an object:\n",
    "        (in, not in)"
   ]
  },
  {
   "cell_type": "code",
   "execution_count": 47,
   "metadata": {},
   "outputs": [
    {
     "name": "stdout",
     "output_type": "stream",
     "text": [
      "False\n",
      "True\n"
     ]
    }
   ],
   "source": [
    "x=[1,2,3,4]\n",
    "y=[3,4,5,6]\n",
    "print(x in y)\n",
    "print(x not in y)"
   ]
  },
  {
   "cell_type": "markdown",
   "metadata": {},
   "source": [
    "    Python Bitwise Operators\n",
    "           Bitwise operators are used to compare (binary) numbers:\n",
    "               (&, |, ^, ~, >>, << )"
   ]
  },
  {
   "cell_type": "code",
   "execution_count": 53,
   "metadata": {},
   "outputs": [
    {
     "name": "stdout",
     "output_type": "stream",
     "text": [
      "a & b = 12\n",
      "a | b = 61\n",
      "~a = -61\n",
      "a ^ b = 49\n",
      "a >> 2 = 15\n",
      "a << 2 = 240\n"
     ]
    }
   ],
   "source": [
    "a = 60            # 60 = 0011 1100 \n",
    "b = 13            # 13 = 0000 1101 \n",
    "c = 0             # 0  = 0000 0000\n",
    "\n",
    " # Print bitwise AND operation    \n",
    "print(\"a & b =\", a & b)  \n",
    "    \n",
    "# Print bitwise OR operation  \n",
    "print(\"a | b =\", a | b)  \n",
    "    \n",
    "# Print bitwise NOT operation   \n",
    "print(\"~a =\", ~a)  \n",
    "    \n",
    "# print bitwise XOR operation   \n",
    "print(\"a ^ b =\", a ^ b)\n",
    "\n",
    "# print bitwise Right shift operation \n",
    "print(\"a >> 2 =\",a>>2)\n",
    "\n",
    "# print bitwise left shift operation \n",
    "print(\"a << 2 =\",a<<2)"
   ]
  },
  {
   "cell_type": "markdown",
   "metadata": {},
   "source": [
    "## python operator Precedence"
   ]
  },
  {
   "cell_type": "markdown",
   "metadata": {},
   "source": [
    "    operator precedence in Python\n",
    "        ** :- Exponentiation (raise to the power)\n",
    "        ~ + - :- Complement, unary plus and minus (method names for the last two are +@ and -@)\n",
    "        * / % // :- Multiply, divide, modulo and floor division\n",
    "        + -\t:- Addition and subtraction\n",
    "        >> << :- Right and left bitwise shift\n",
    "        &  :-\tBitwise 'AND'td>\n",
    "        ^ |\t:- Bitwise exclusive `OR' and regular `OR'\n",
    "        <= < > >= :- Comparison operators\n",
    "        <> == != :- Equality operators\n",
    "        = %= /= //= -= += *= **= :- Assignment operators\n",
    "        is is not :- Identity operators\n",
    "        in not in :- Membership operators\n",
    "        not or and :- Logical operators"
   ]
  },
  {
   "cell_type": "code",
   "execution_count": 58,
   "metadata": {},
   "outputs": [
    {
     "name": "stdout",
     "output_type": "stream",
     "text": [
      "Value of (a + b) * c / d is =  90.0\n",
      "Value of ((a + b) * c) / d is =  90.0\n",
      "Value of (a + b) * (c / d) is =  90.0\n",
      "Value of a + (b * c) / d is =  50.0\n"
     ]
    }
   ],
   "source": [
    "a = 20\n",
    "b = 10\n",
    "c = 15\n",
    "d = 5\n",
    "e = 0\n",
    "\n",
    "e = (a + b) * c / d                         #( 30 * 15 ) / 5\n",
    "print(\"Value of (a + b) * c / d is = \",  e)\n",
    "\n",
    "e = ((a + b) * c) / d                      # (30 * 15 ) / 5\n",
    "print(\"Value of ((a + b) * c) / d is = \",  e)\n",
    "\n",
    "e = (a + b) * (c / d);                    # (30) * (15/5)\n",
    "print(\"Value of (a + b) * (c / d) is = \",  e)\n",
    "\n",
    "e = a + (b * c) / d;                     #  20 + (150/5)\n",
    "print(\"Value of a + (b * c) / d is = \",  e)"
   ]
  }
 ],
 "metadata": {
  "kernelspec": {
   "display_name": "Python 3",
   "language": "python",
   "name": "python3"
  },
  "language_info": {
   "codemirror_mode": {
    "name": "ipython",
    "version": 3
   },
   "file_extension": ".py",
   "mimetype": "text/x-python",
   "name": "python",
   "nbconvert_exporter": "python",
   "pygments_lexer": "ipython3",
   "version": "3.7.0"
  }
 },
 "nbformat": 4,
 "nbformat_minor": 2
}
