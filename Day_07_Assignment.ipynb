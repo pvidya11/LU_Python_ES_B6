{
 "cells": [
  {
   "cell_type": "markdown",
   "metadata": {},
   "source": [
    "## Question 1 :\n",
    "    Use the dictionary,\n",
    "    port1 = {21: \"FTP\", 22:\"SSH\", 23: \"telnet\", 80: \"http\"},\n",
    "        and make a new dictionary in which keys become values and values become keys,\n",
    "    as shown: Port2 = {“FTP\":21, \"SSH\":22, “telnet\":23,\"http\": 80}"
   ]
  },
  {
   "cell_type": "code",
   "execution_count": 12,
   "metadata": {},
   "outputs": [
    {
     "name": "stdout",
     "output_type": "stream",
     "text": [
      "The output in the form of key to value and value to key. {'FTP': 21, 'SSH': 22, 'telnet': 23, 'http': 80}\n"
     ]
    }
   ],
   "source": [
    "port1 = {21:\"FTP\",22:\"SSH\",23:\"telnet\",80:\"http\"}\n",
    "port2={}\n",
    "for key,value in port1.items():\n",
    "    port2[value]=key\n",
    "\n",
    "print(\"The output in the form of key to value and value to key.\", port2)"
   ]
  },
  {
   "cell_type": "markdown",
   "metadata": {},
   "source": [
    "## Question 2 :\n",
    "    Take a list of tuple as shown below.\n",
    "        [(1,2), (3,4), (5,6),(4,5)]\n",
    "    Make a new list which contains the sum of the number of tuples.\n",
    "        For example\n",
    "            Input\n",
    "                [(1,2), (3,4), (5,6)]\n",
    "            Output\n",
    "                [3, 7, 11]\n"
   ]
  },
  {
   "cell_type": "code",
   "execution_count": 27,
   "metadata": {},
   "outputs": [
    {
     "name": "stdout",
     "output_type": "stream",
     "text": [
      "sum of the list of tuple [3, 7, 11, 9]\n"
     ]
    }
   ],
   "source": [
    "\"\"\"sum of tuple in the list\"\"\"\n",
    "lst_of_tuples=[(1,2),(3,4),(5,6),(4,5)]\n",
    "new_lst=[]\n",
    "for each in range(0,len(lst_of_tuples)):\n",
    "    a,b=lst_of_tuples[each]\n",
    "    new_lst.append(a+b)\n",
    "print(\"sum of the list of tuple\",new_lst)"
   ]
  },
  {
   "cell_type": "markdown",
   "metadata": {},
   "source": [
    "## Question 3:\n",
    "    Take a list as shown below\n",
    "        [(1,2,3), [1,2], ['a','hit','less']]\n",
    "    The List contains tuple and lists. Make the elements of inner lists and tuples to outer list"
   ]
  },
  {
   "cell_type": "code",
   "execution_count": 28,
   "metadata": {},
   "outputs": [
    {
     "name": "stdout",
     "output_type": "stream",
     "text": [
      "making as one list [1, 2, 3, 1, 2, 'a', 'hit', 'less']\n"
     ]
    }
   ],
   "source": [
    "list1=[(1,2,3),[1,2],['a','hit','less']]\n",
    "list2=[]\n",
    "list2=[i for each in list1 for i in each]\n",
    "print (\"making as one list\",list2)"
   ]
  }
 ],
 "metadata": {
  "kernelspec": {
   "display_name": "Python 3",
   "language": "python",
   "name": "python3"
  },
  "language_info": {
   "codemirror_mode": {
    "name": "ipython",
    "version": 3
   },
   "file_extension": ".py",
   "mimetype": "text/x-python",
   "name": "python",
   "nbconvert_exporter": "python",
   "pygments_lexer": "ipython3",
   "version": "3.7.0"
  }
 },
 "nbformat": 4,
 "nbformat_minor": 2
}
