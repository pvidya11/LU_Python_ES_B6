{
 "cells": [
  {
   "cell_type": "markdown",
   "metadata": {},
   "source": [
    "## Question 1 :\n",
    "    \n",
    "    [0,1,2,10,4,1,0,56,2,0,1,3,0,56,0,4]\n",
    "    \n",
    "    Sort by increasing order but all zeros should be at the right hand side.\n"
   ]
  },
  {
   "cell_type": "code",
   "execution_count": 15,
   "metadata": {},
   "outputs": [
    {
     "name": "stdout",
     "output_type": "stream",
     "text": [
      "[1, 1, 1, 2, 2, 3, 4, 4, 10, 56, 56, 0, 0, 0, 0, 0]\n"
     ]
    }
   ],
   "source": [
    "lst = [0,1,2,10,4,1,0,56,2,0,1,3,0,56,0,4]\n",
    "lst.sort()\n",
    "p=lst.count(0);\n",
    "print(lst[p:]+lst[:p])"
   ]
  },
  {
   "cell_type": "markdown",
   "metadata": {},
   "source": [
    "## Question 2 :\n",
    "    \n",
    "    list1=[10,20,40,60,70,80] sorted list\n",
    "    list2=[5,15,25,35,45,60] sorted list\n",
    "    \n",
    "    Merge these two sorted lists to produce one sorted list, but use only loop either while or for only one time."
   ]
  },
  {
   "cell_type": "code",
   "execution_count": 17,
   "metadata": {},
   "outputs": [
    {
     "name": "stdout",
     "output_type": "stream",
     "text": [
      "[5, 10, 15, 20, 25, 35, 40, 45, 60, 70, 80]\n"
     ]
    }
   ],
   "source": [
    "\n",
    "list1 = [10,20,40,60,70,80]\n",
    "list2 = [5,15,25,35,45,60]\n",
    "MergedList =list1+list2\n",
    "ResSortedList=[]\n",
    "for i in range(min(MergedList),max(MergedList)+1):\n",
    "    if i in MergedList:\n",
    "        ResSortedList.append(i)\n",
    "print(ResSortedList)"
   ]
  }
 ],
 "metadata": {
  "kernelspec": {
   "display_name": "Python 3",
   "language": "python",
   "name": "python3"
  },
  "language_info": {
   "codemirror_mode": {
    "name": "ipython",
    "version": 3
   },
   "file_extension": ".py",
   "mimetype": "text/x-python",
   "name": "python",
   "nbconvert_exporter": "python",
   "pygments_lexer": "ipython3",
   "version": "3.7.0"
  }
 },
 "nbformat": 4,
 "nbformat_minor": 2
}
