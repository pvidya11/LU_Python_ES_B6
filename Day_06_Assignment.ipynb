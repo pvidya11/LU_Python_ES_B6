{
 "cells": [
  {
   "cell_type": "markdown",
   "metadata": {},
   "source": [
    "## Question 1 :\n",
    "    List1 = [1,2,3,4,5,7,8]\n",
    "    List2 = [“a”, “b”, “c”, “d”, “e”]\n",
    "        Convert to a dictionary in one line code using list comprehension (without using zip method)"
   ]
  },
  {
   "cell_type": "code",
   "execution_count": null,
   "metadata": {},
   "outputs": [],
   "source": [
    "list1 = [1,2,3,4,5,7,8]\n",
    "list2 = ['a','b','c','d','e']\n",
    "d1 = {list1[each]:list2[each] for each in range(min(len(list1),len(list2)))}\n",
    "print(d1)"
   ]
  }
 ],
 "metadata": {
  "kernelspec": {
   "display_name": "Python 3",
   "language": "python",
   "name": "python3"
  },
  "language_info": {
   "codemirror_mode": {
    "name": "ipython",
    "version": 3
   },
   "file_extension": ".py",
   "mimetype": "text/x-python",
   "name": "python",
   "nbconvert_exporter": "python",
   "pygments_lexer": "ipython3",
   "version": "3.7.0"
  }
 },
 "nbformat": 4,
 "nbformat_minor": 2
}
